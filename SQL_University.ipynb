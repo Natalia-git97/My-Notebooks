{
  "nbformat": 4,
  "nbformat_minor": 0,
  "metadata": {
    "colab": {
      "name": "SQL_University.ipynb",
      "provenance": [],
      "authorship_tag": "ABX9TyMPAojr2kHa1nvSAg6RQ5tl",
      "include_colab_link": true
    },
    "kernelspec": {
      "name": "python3",
      "display_name": "Python 3"
    }
  },
  "cells": [
    {
      "cell_type": "markdown",
      "metadata": {
        "id": "view-in-github",
        "colab_type": "text"
      },
      "source": [
        "<a href=\"https://colab.research.google.com/github/Natalia-git97/My-Notebooks/blob/main/SQL_University.ipynb\" target=\"_parent\"><img src=\"https://colab.research.google.com/assets/colab-badge.svg\" alt=\"Open In Colab\"/></a>"
      ]
    },
    {
      "cell_type": "markdown",
      "metadata": {
        "id": "jYQ763Pd7gky"
      },
      "source": [
        "#CRIANDO UM SQL\n",
        "\n",
        "Modelar um sistema de gerenciamento de banco de dados de alunos para Universidades\n",
        "Com as seguintes considerações: \n",
        "  - Você deverá cadastrar as seguintes informações de cada profissional da Universidade (Alunos e Professores):\n",
        "    - Primeiro nome; Sobrenome; Data de nascimento ; email do aluno\n",
        "  - Cada aluno poderá se matricular em um determinado curso dado por um determinado professor\n",
        "  - Cada aluno poderá realizar o mesmo curso até 3 vezes, sendo aprovado quando obter média >= 70.0\n",
        "  \n",
        "Definir as tabelas (entities) com seu respectivos atributos - definir os \"constraints\" e as chaves primárias e/ou estrangeiras\n"
      ]
    },
    {
      "cell_type": "code",
      "metadata": {
        "id": "iMgRkCtcmutR"
      },
      "source": [
        "import csv\n",
        "import sqlite3\n",
        "bd = sqlite3.connect('ExampleUniversity.db')"
      ],
      "execution_count": null,
      "outputs": []
    },
    {
      "cell_type": "code",
      "source": [
        "from google.colab import drive\n",
        "drive.mount('/content/drive')"
      ],
      "metadata": {
        "colab": {
          "base_uri": "https://localhost:8080/",
          "height": 328
        },
        "id": "dmFB_AiaghPX",
        "outputId": "7cc67529-bee3-4eb5-a796-a6d9ff24037b"
      },
      "execution_count": null,
      "outputs": [
        {
          "output_type": "error",
          "ename": "MessageError",
          "evalue": "ignored",
          "traceback": [
            "\u001b[0;31m---------------------------------------------------------------------------\u001b[0m",
            "\u001b[0;31mMessageError\u001b[0m                              Traceback (most recent call last)",
            "\u001b[0;32m<ipython-input-2-d5df0069828e>\u001b[0m in \u001b[0;36m<module>\u001b[0;34m()\u001b[0m\n\u001b[1;32m      1\u001b[0m \u001b[0;32mfrom\u001b[0m \u001b[0mgoogle\u001b[0m\u001b[0;34m.\u001b[0m\u001b[0mcolab\u001b[0m \u001b[0;32mimport\u001b[0m \u001b[0mdrive\u001b[0m\u001b[0;34m\u001b[0m\u001b[0;34m\u001b[0m\u001b[0m\n\u001b[0;32m----> 2\u001b[0;31m \u001b[0mdrive\u001b[0m\u001b[0;34m.\u001b[0m\u001b[0mmount\u001b[0m\u001b[0;34m(\u001b[0m\u001b[0;34m'/content/drive'\u001b[0m\u001b[0;34m)\u001b[0m\u001b[0;34m\u001b[0m\u001b[0;34m\u001b[0m\u001b[0m\n\u001b[0m",
            "\u001b[0;32m/usr/local/lib/python3.7/dist-packages/google/colab/drive.py\u001b[0m in \u001b[0;36mmount\u001b[0;34m(mountpoint, force_remount, timeout_ms, use_metadata_server)\u001b[0m\n\u001b[1;32m    113\u001b[0m       \u001b[0mforce_remount\u001b[0m\u001b[0;34m=\u001b[0m\u001b[0mforce_remount\u001b[0m\u001b[0;34m,\u001b[0m\u001b[0;34m\u001b[0m\u001b[0;34m\u001b[0m\u001b[0m\n\u001b[1;32m    114\u001b[0m       \u001b[0mtimeout_ms\u001b[0m\u001b[0;34m=\u001b[0m\u001b[0mtimeout_ms\u001b[0m\u001b[0;34m,\u001b[0m\u001b[0;34m\u001b[0m\u001b[0;34m\u001b[0m\u001b[0m\n\u001b[0;32m--> 115\u001b[0;31m       ephemeral=True)\n\u001b[0m\u001b[1;32m    116\u001b[0m \u001b[0;34m\u001b[0m\u001b[0m\n\u001b[1;32m    117\u001b[0m \u001b[0;34m\u001b[0m\u001b[0m\n",
            "\u001b[0;32m/usr/local/lib/python3.7/dist-packages/google/colab/drive.py\u001b[0m in \u001b[0;36m_mount\u001b[0;34m(mountpoint, force_remount, timeout_ms, use_metadata_server, ephemeral)\u001b[0m\n\u001b[1;32m    133\u001b[0m   \u001b[0;32mif\u001b[0m \u001b[0mephemeral\u001b[0m\u001b[0;34m:\u001b[0m\u001b[0;34m\u001b[0m\u001b[0;34m\u001b[0m\u001b[0m\n\u001b[1;32m    134\u001b[0m     _message.blocking_request(\n\u001b[0;32m--> 135\u001b[0;31m         'request_auth', request={'authType': 'dfs_ephemeral'}, timeout_sec=None)\n\u001b[0m\u001b[1;32m    136\u001b[0m \u001b[0;34m\u001b[0m\u001b[0m\n\u001b[1;32m    137\u001b[0m   \u001b[0mmountpoint\u001b[0m \u001b[0;34m=\u001b[0m \u001b[0m_os\u001b[0m\u001b[0;34m.\u001b[0m\u001b[0mpath\u001b[0m\u001b[0;34m.\u001b[0m\u001b[0mexpanduser\u001b[0m\u001b[0;34m(\u001b[0m\u001b[0mmountpoint\u001b[0m\u001b[0;34m)\u001b[0m\u001b[0;34m\u001b[0m\u001b[0;34m\u001b[0m\u001b[0m\n",
            "\u001b[0;32m/usr/local/lib/python3.7/dist-packages/google/colab/_message.py\u001b[0m in \u001b[0;36mblocking_request\u001b[0;34m(request_type, request, timeout_sec, parent)\u001b[0m\n\u001b[1;32m    173\u001b[0m   request_id = send_request(\n\u001b[1;32m    174\u001b[0m       request_type, request, parent=parent, expect_reply=True)\n\u001b[0;32m--> 175\u001b[0;31m   \u001b[0;32mreturn\u001b[0m \u001b[0mread_reply_from_input\u001b[0m\u001b[0;34m(\u001b[0m\u001b[0mrequest_id\u001b[0m\u001b[0;34m,\u001b[0m \u001b[0mtimeout_sec\u001b[0m\u001b[0;34m)\u001b[0m\u001b[0;34m\u001b[0m\u001b[0;34m\u001b[0m\u001b[0m\n\u001b[0m",
            "\u001b[0;32m/usr/local/lib/python3.7/dist-packages/google/colab/_message.py\u001b[0m in \u001b[0;36mread_reply_from_input\u001b[0;34m(message_id, timeout_sec)\u001b[0m\n\u001b[1;32m    104\u001b[0m         reply.get('colab_msg_id') == message_id):\n\u001b[1;32m    105\u001b[0m       \u001b[0;32mif\u001b[0m \u001b[0;34m'error'\u001b[0m \u001b[0;32min\u001b[0m \u001b[0mreply\u001b[0m\u001b[0;34m:\u001b[0m\u001b[0;34m\u001b[0m\u001b[0;34m\u001b[0m\u001b[0m\n\u001b[0;32m--> 106\u001b[0;31m         \u001b[0;32mraise\u001b[0m \u001b[0mMessageError\u001b[0m\u001b[0;34m(\u001b[0m\u001b[0mreply\u001b[0m\u001b[0;34m[\u001b[0m\u001b[0;34m'error'\u001b[0m\u001b[0;34m]\u001b[0m\u001b[0;34m)\u001b[0m\u001b[0;34m\u001b[0m\u001b[0;34m\u001b[0m\u001b[0m\n\u001b[0m\u001b[1;32m    107\u001b[0m       \u001b[0;32mreturn\u001b[0m \u001b[0mreply\u001b[0m\u001b[0;34m.\u001b[0m\u001b[0mget\u001b[0m\u001b[0;34m(\u001b[0m\u001b[0;34m'data'\u001b[0m\u001b[0;34m,\u001b[0m \u001b[0;32mNone\u001b[0m\u001b[0;34m)\u001b[0m\u001b[0;34m\u001b[0m\u001b[0;34m\u001b[0m\u001b[0m\n\u001b[1;32m    108\u001b[0m \u001b[0;34m\u001b[0m\u001b[0m\n",
            "\u001b[0;31mMessageError\u001b[0m: Error: credential propagation was unsuccessful"
          ]
        }
      ]
    },
    {
      "cell_type": "code",
      "metadata": {
        "id": "HXs-LIlF70--"
      },
      "source": [
        "cursor = bd.cursor()"
      ],
      "execution_count": null,
      "outputs": []
    },
    {
      "cell_type": "code",
      "metadata": {
        "id": "2Pdl4kCz806S"
      },
      "source": [
        "SQL = \"\"\" CREATE TABLE IF NOT EXISTS person (\n",
        "                                personid integer PRIMARY KEY,\n",
        "                                first_name text,\n",
        "                                middle_initial text,\n",
        "                                last_name text,\n",
        "                                born_date text); \"\"\""
      ],
      "execution_count": null,
      "outputs": []
    },
    {
      "cell_type": "code",
      "metadata": {
        "colab": {
          "base_uri": "https://localhost:8080/"
        },
        "id": "FAecOMFJVBae",
        "outputId": "f1cc6b6b-18df-4c63-cdbc-3858af7a098c"
      },
      "source": [
        "cursor.execute(SQL)"
      ],
      "execution_count": null,
      "outputs": [
        {
          "output_type": "execute_result",
          "data": {
            "text/plain": [
              "<sqlite3.Cursor at 0x7f458af46f80>"
            ]
          },
          "metadata": {},
          "execution_count": 6
        }
      ]
    },
    {
      "cell_type": "code",
      "metadata": {
        "id": "Nb99Uv9hT9_n"
      },
      "source": [
        "csv_file = open('/content/SamplePersonData')\n",
        "persondata = csv.reader(csv_file)"
      ],
      "execution_count": null,
      "outputs": []
    },
    {
      "cell_type": "code",
      "source": [
        "cursor.execute(\"PRAGMA table_info(person)\").fetchall()"
      ],
      "metadata": {
        "colab": {
          "base_uri": "https://localhost:8080/"
        },
        "id": "OWW13Jztg58A",
        "outputId": "1357338e-ff82-45ec-d310-ecdc9c28d4db"
      },
      "execution_count": null,
      "outputs": [
        {
          "output_type": "execute_result",
          "data": {
            "text/plain": [
              "[(0, 'personid', 'integer', 0, None, 1),\n",
              " (1, 'first_name', 'text', 0, None, 0),\n",
              " (2, 'middle_initial', 'text', 0, None, 0),\n",
              " (3, 'last_name', 'text', 0, None, 0),\n",
              " (4, 'born_date', 'text', 0, None, 0)]"
            ]
          },
          "metadata": {},
          "execution_count": 9
        }
      ]
    },
    {
      "cell_type": "code",
      "metadata": {
        "colab": {
          "base_uri": "https://localhost:8080/"
        },
        "id": "xY-dYRnCUI7Q",
        "outputId": "f2ae5a65-a018-43a7-e89a-354a36774103"
      },
      "source": [
        "cursor.executemany('INSERT INTO person VALUES (?,?,?,?,?)',persondata)"
      ],
      "execution_count": null,
      "outputs": [
        {
          "output_type": "execute_result",
          "data": {
            "text/plain": [
              "<sqlite3.Cursor at 0x7f0e266c8f80>"
            ]
          },
          "metadata": {
            "tags": []
          },
          "execution_count": 7
        }
      ]
    },
    {
      "cell_type": "code",
      "metadata": {
        "id": "UF1BBJhuasjq"
      },
      "source": [
        "bd.commit()"
      ],
      "execution_count": null,
      "outputs": []
    },
    {
      "cell_type": "code",
      "metadata": {
        "colab": {
          "base_uri": "https://localhost:8080/"
        },
        "id": "xDOVwEXsYEF9",
        "outputId": "3be6a265-ce5e-4280-e6f2-c0d2a8270c2e"
      },
      "source": [
        "cursor.execute('SELECT * FROM person limit 5').fetchall()"
      ],
      "execution_count": null,
      "outputs": [
        {
          "output_type": "execute_result",
          "data": {
            "text/plain": [
              "[]"
            ]
          },
          "metadata": {},
          "execution_count": 11
        }
      ]
    },
    {
      "cell_type": "code",
      "metadata": {
        "id": "BlWTr-l1P0Jp"
      },
      "source": [
        "SQL = \"\"\" CREATE TABLE IF NOT EXISTS student (\n",
        "                                studentid integer PRIMARY KEY,\n",
        "                                personid integer,\n",
        "                                email text,\n",
        "                                foreign key (personid) references person(personid)\n",
        "                                          ); \"\"\""
      ],
      "execution_count": null,
      "outputs": []
    },
    {
      "cell_type": "code",
      "metadata": {
        "colab": {
          "base_uri": "https://localhost:8080/"
        },
        "id": "f0vGPlPicCpY",
        "outputId": "2072aa1d-062a-4e7e-d7a7-60ca1aeb5b11"
      },
      "source": [
        "cursor.execute(SQL)"
      ],
      "execution_count": null,
      "outputs": [
        {
          "output_type": "execute_result",
          "data": {
            "text/plain": [
              "<sqlite3.Cursor at 0x7f458af46f80>"
            ]
          },
          "metadata": {},
          "execution_count": 13
        }
      ]
    },
    {
      "cell_type": "code",
      "metadata": {
        "id": "qWZtWU5YPynu"
      },
      "source": [
        "csv_file = open('/content/SampleStudentData')\n",
        "studentdata = csv.reader(csv_file)"
      ],
      "execution_count": null,
      "outputs": []
    },
    {
      "cell_type": "code",
      "metadata": {
        "colab": {
          "base_uri": "https://localhost:8080/"
        },
        "id": "2u3OrKmxaS0z",
        "outputId": "838ab496-29aa-4cd8-9252-ebbb5cb4eb9a"
      },
      "source": [
        "cursor.executemany('INSERT INTO student VALUES (?,?,?)', studentdata)"
      ],
      "execution_count": null,
      "outputs": [
        {
          "output_type": "execute_result",
          "data": {
            "text/plain": [
              "<sqlite3.Cursor at 0x7f458af46f80>"
            ]
          },
          "metadata": {},
          "execution_count": 15
        }
      ]
    },
    {
      "cell_type": "code",
      "metadata": {
        "id": "lfyhseEHcq_p"
      },
      "source": [
        "bd.commit()"
      ],
      "execution_count": null,
      "outputs": []
    },
    {
      "cell_type": "code",
      "metadata": {
        "colab": {
          "base_uri": "https://localhost:8080/"
        },
        "id": "s2t_T0-aaV0T",
        "outputId": "59889b27-0664-46fd-a1c3-a80e6befcfee"
      },
      "source": [
        "cursor.execute('SELECT * FROM student limit 5').fetchall()"
      ],
      "execution_count": null,
      "outputs": [
        {
          "output_type": "execute_result",
          "data": {
            "text/plain": [
              "[(1, 1, 'AdeleRosales@university.com'),\n",
              " (2, 2, 'JustusGomez@university.com'),\n",
              " (3, 3, 'IsiahWarner@university.com'),\n",
              " (4, 4, 'EricaCampos@university.com'),\n",
              " (5, 5, 'DesmondValdez@university.com')]"
            ]
          },
          "metadata": {},
          "execution_count": 19
        }
      ]
    },
    {
      "cell_type": "code",
      "metadata": {
        "id": "IHtIm5HaAexz"
      },
      "source": [
        "SQL = \"\"\" CREATE TABLE IF NOT EXISTS course (\n",
        "                                courseid integer PRIMARY KEY,\n",
        "                                name text,\n",
        "                                teacher text\n",
        "                                          ); \"\"\""
      ],
      "execution_count": null,
      "outputs": []
    },
    {
      "cell_type": "code",
      "metadata": {
        "colab": {
          "base_uri": "https://localhost:8080/"
        },
        "id": "yRql8cd0dWiN",
        "outputId": "9113312a-3f56-4999-8de8-01ab63cccd0d"
      },
      "source": [
        "cursor.execute(SQL)"
      ],
      "execution_count": null,
      "outputs": [
        {
          "output_type": "execute_result",
          "data": {
            "text/plain": [
              "<sqlite3.Cursor at 0x7f458af46f80>"
            ]
          },
          "metadata": {},
          "execution_count": 21
        }
      ]
    },
    {
      "cell_type": "code",
      "metadata": {
        "id": "80XMuPLcLLAs"
      },
      "source": [
        "csv_file = open('/content/SampleCourseData')\n",
        "coursedata = csv.reader(csv_file)"
      ],
      "execution_count": null,
      "outputs": []
    },
    {
      "cell_type": "code",
      "metadata": {
        "colab": {
          "base_uri": "https://localhost:8080/"
        },
        "id": "BSm8RlBvdapA",
        "outputId": "d3ee4d53-4a77-48aa-9d72-99968bfc766b"
      },
      "source": [
        "cursor.executemany('INSERT INTO course VALUES (?,?,?)', coursedata)"
      ],
      "execution_count": null,
      "outputs": [
        {
          "output_type": "execute_result",
          "data": {
            "text/plain": [
              "<sqlite3.Cursor at 0x7f458af46f80>"
            ]
          },
          "metadata": {},
          "execution_count": 23
        }
      ]
    },
    {
      "cell_type": "code",
      "metadata": {
        "id": "lQfK0tdwd0vS"
      },
      "source": [
        "bd.commit()"
      ],
      "execution_count": null,
      "outputs": []
    },
    {
      "cell_type": "code",
      "metadata": {
        "colab": {
          "base_uri": "https://localhost:8080/"
        },
        "id": "6btSu5AvdnFK",
        "outputId": "2b7ebdd4-8834-4b32-a48b-6487ef637b4a"
      },
      "source": [
        "cursor.execute('SELECT * FROM course limit 5').fetchall()"
      ],
      "execution_count": null,
      "outputs": [
        {
          "output_type": "execute_result",
          "data": {
            "text/plain": [
              "[(1, 'Circuit Analysis', 'Kellen Horton'),\n",
              " (2, 'Calculus', 'Kamron Saunders'),\n",
              " (3, 'Introduction to Law ', 'Dominick Pope'),\n",
              " (4, 'Circuit Analysis', 'Gerardo Grimes'),\n",
              " (5, 'Human Ecology', 'Elaine Cabrera')]"
            ]
          },
          "metadata": {},
          "execution_count": 25
        }
      ]
    },
    {
      "cell_type": "code",
      "metadata": {
        "id": "mwrCw6z0XlwB"
      },
      "source": [
        "SQL = \"\"\" CREATE TABLE IF NOT EXISTS credit (\n",
        "                                studentid integer,\n",
        "                                courseid text,\n",
        "                                grade text,\n",
        "                                attempt text,\n",
        "                                foreign key (studentid) references student(studentid),\n",
        "                                foreign key (courseid) references course(courseid)\n",
        "                                                                                  ); \"\"\""
      ],
      "execution_count": null,
      "outputs": []
    },
    {
      "cell_type": "code",
      "metadata": {
        "colab": {
          "base_uri": "https://localhost:8080/"
        },
        "id": "t4vCbfkDwIKU",
        "outputId": "88f70645-2384-46ba-c056-04585fb846ec"
      },
      "source": [
        "type(SQL)"
      ],
      "execution_count": null,
      "outputs": [
        {
          "output_type": "execute_result",
          "data": {
            "text/plain": [
              "str"
            ]
          },
          "metadata": {},
          "execution_count": 27
        }
      ]
    },
    {
      "cell_type": "code",
      "metadata": {
        "id": "XFRa3nhe6VrD",
        "colab": {
          "base_uri": "https://localhost:8080/"
        },
        "outputId": "5bc2ae6f-b962-45c0-a1ce-889aa70945ff"
      },
      "source": [
        "cursor.execute(SQL)"
      ],
      "execution_count": null,
      "outputs": [
        {
          "output_type": "execute_result",
          "data": {
            "text/plain": [
              "<sqlite3.Cursor at 0x7f458af46f80>"
            ]
          },
          "metadata": {},
          "execution_count": 28
        }
      ]
    },
    {
      "cell_type": "code",
      "metadata": {
        "id": "MsJnl3pefFHp"
      },
      "source": [
        "csv_file = open('/content/SampleCreditData')\n",
        "creditdata = csv.reader(csv_file)"
      ],
      "execution_count": null,
      "outputs": []
    },
    {
      "cell_type": "code",
      "metadata": {
        "colab": {
          "base_uri": "https://localhost:8080/"
        },
        "id": "qq40U1BJfsaA",
        "outputId": "e9af9311-3840-4597-f7a0-1210b36226f5"
      },
      "source": [
        "cursor.executemany('INSERT INTO credit VALUES (?,?,?,?)', creditdata)"
      ],
      "execution_count": null,
      "outputs": [
        {
          "output_type": "execute_result",
          "data": {
            "text/plain": [
              "<sqlite3.Cursor at 0x7f458af46f80>"
            ]
          },
          "metadata": {},
          "execution_count": 30
        }
      ]
    },
    {
      "cell_type": "code",
      "metadata": {
        "id": "1yN8IM74kwbx"
      },
      "source": [
        "bd.commit()"
      ],
      "execution_count": null,
      "outputs": []
    },
    {
      "cell_type": "code",
      "metadata": {
        "colab": {
          "base_uri": "https://localhost:8080/"
        },
        "id": "xVeb4G5kk60V",
        "outputId": "54d7317b-230c-457c-ef86-ca3d90d27c0e"
      },
      "source": [
        "cursor.execute('SELECT * FROM credit limit 5').fetchall()"
      ],
      "execution_count": null,
      "outputs": [
        {
          "output_type": "execute_result",
          "data": {
            "text/plain": [
              "[(554, '24', '99.89', '1'),\n",
              " (468, '6', '85.15', '2'),\n",
              " (34, '13', '22.69', '3'),\n",
              " (854, '16', '48.32', '1'),\n",
              " (469, '2', '90.53', '2')]"
            ]
          },
          "metadata": {},
          "execution_count": 32
        }
      ]
    },
    {
      "cell_type": "markdown",
      "metadata": {
        "id": "jmq-tyMlhE69"
      },
      "source": [
        "#Exercícios\n"
      ]
    },
    {
      "cell_type": "markdown",
      "metadata": {
        "id": "xQqRy3fbDYJ2"
      },
      "source": [
        "- Quantos estudantes obtiveram média acima de 83.5 ? \n"
      ]
    },
    {
      "cell_type": "code",
      "metadata": {
        "colab": {
          "base_uri": "https://localhost:8080/"
        },
        "id": "xqm5SkbhGHCf",
        "outputId": "ffc18ce6-8620-4667-8a07-5f2e40c892e2"
      },
      "source": [
        "cursor.execute('PRAGMA table_info(credit)').fetchall()"
      ],
      "execution_count": null,
      "outputs": [
        {
          "output_type": "execute_result",
          "data": {
            "text/plain": [
              "[(0, 'studentid', 'integer', 0, None, 0),\n",
              " (1, 'courseid', 'text', 0, None, 0),\n",
              " (2, 'grade', 'text', 0, None, 0),\n",
              " (3, 'attempt', 'text', 0, None, 0)]"
            ]
          },
          "metadata": {
            "tags": []
          },
          "execution_count": 29
        }
      ]
    },
    {
      "cell_type": "code",
      "metadata": {
        "colab": {
          "base_uri": "https://localhost:8080/"
        },
        "id": "vhGkJ7ViF836",
        "outputId": "5c4d359c-370f-44fe-936e-f59bc0be7b17"
      },
      "source": [
        "cursor.execute('SELECT studentid, grade FROM credit WHERE grade > 83.5 limit 10').fetchall()"
      ],
      "execution_count": null,
      "outputs": [
        {
          "output_type": "execute_result",
          "data": {
            "text/plain": [
              "[(554, '99.89'),\n",
              " (468, '85.15'),\n",
              " (469, '90.53'),\n",
              " (359, '97.22'),\n",
              " (172, '84.53'),\n",
              " (91, '91.82'),\n",
              " (648, '98.74'),\n",
              " (823, '86.50'),\n",
              " (426, '95.45'),\n",
              " (695, '84.91')]"
            ]
          },
          "metadata": {
            "tags": []
          },
          "execution_count": 30
        }
      ]
    },
    {
      "cell_type": "code",
      "metadata": {
        "colab": {
          "base_uri": "https://localhost:8080/"
        },
        "id": "N1VE0rYOHNL5",
        "outputId": "ac199421-2b25-432d-ba6f-25bf2be5e519"
      },
      "source": [
        "cursor.execute('SELECT COUNT(studentid) FROM credit WHERE grade > 83.5').fetchall()"
      ],
      "execution_count": null,
      "outputs": [
        {
          "output_type": "execute_result",
          "data": {
            "text/plain": [
              "[(197,)]"
            ]
          },
          "metadata": {
            "tags": []
          },
          "execution_count": 31
        }
      ]
    },
    {
      "cell_type": "markdown",
      "metadata": {
        "id": "k0rpxh-VHsD_"
      },
      "source": [
        "- Faça uma consulta que retorne os cursos dados ordenados em \"ordem\" alfabética. "
      ]
    },
    {
      "cell_type": "code",
      "metadata": {
        "colab": {
          "base_uri": "https://localhost:8080/"
        },
        "id": "-GqyyKxpGaes",
        "outputId": "6128166a-1faf-410e-9e9b-b5508794e574"
      },
      "source": [
        "cursor.execute('SELECT name FROM course ORDER BY name limit 10').fetchall()"
      ],
      "execution_count": null,
      "outputs": [
        {
          "output_type": "execute_result",
          "data": {
            "text/plain": [
              "[('Arts Fundraising',),\n",
              " ('Calculus',),\n",
              " ('Calculus',),\n",
              " ('Circuit Analysis',),\n",
              " ('Circuit Analysis',),\n",
              " ('Elementary French ',),\n",
              " ('Elementary French ',),\n",
              " ('Financial Accounting',),\n",
              " ('Food and Culture',),\n",
              " ('Food and Culture',)]"
            ]
          },
          "metadata": {
            "tags": []
          },
          "execution_count": 32
        }
      ]
    },
    {
      "cell_type": "markdown",
      "metadata": {
        "id": "489xIzagIvGb"
      },
      "source": [
        "- Faça uma consulta que retorne o nome de todas as pessoas cujo o último nome termina com \"ez\""
      ]
    },
    {
      "cell_type": "code",
      "metadata": {
        "colab": {
          "base_uri": "https://localhost:8080/"
        },
        "id": "kov1qgTKI8S1",
        "outputId": "3f36181f-3777-4273-a4f6-769d89092dcc"
      },
      "source": [
        "cursor.execute(\"SELECT first_name, last_name FROM person WHERE last_name LIKE '%ez' limit 10\").fetchall()"
      ],
      "execution_count": null,
      "outputs": [
        {
          "output_type": "execute_result",
          "data": {
            "text/plain": [
              "[('Justus', 'Gomez'),\n",
              " ('Desmond', 'Valdez'),\n",
              " ('Amare', 'Hernandez'),\n",
              " ('Jaida', 'Martinez'),\n",
              " ('Aaron', 'Perez'),\n",
              " ('Ava', 'Velez'),\n",
              " ('Giada', 'Fernandez'),\n",
              " ('Ruben', 'Rodriquez'),\n",
              " ('Seth', 'Marquez'),\n",
              " ('Alexis', 'Velez')]"
            ]
          },
          "metadata": {
            "tags": []
          },
          "execution_count": 33
        }
      ]
    },
    {
      "cell_type": "markdown",
      "metadata": {
        "id": "uHCvAInUJoQt"
      },
      "source": [
        "- Quantos estudantes precisaram de 3 tentativas para serem aprovados "
      ]
    },
    {
      "cell_type": "code",
      "metadata": {
        "colab": {
          "base_uri": "https://localhost:8080/"
        },
        "id": "t1VL1heUJXEu",
        "outputId": "8f39ee7e-6969-4d69-b51b-d08bb09dfb69"
      },
      "source": [
        "cursor.execute('PRAGMA table_info(credit)').fetchall()"
      ],
      "execution_count": null,
      "outputs": [
        {
          "output_type": "execute_result",
          "data": {
            "text/plain": [
              "[(0, 'studentid', 'integer', 0, None, 0),\n",
              " (1, 'courseid', 'text', 0, None, 0),\n",
              " (2, 'grade', 'text', 0, None, 0),\n",
              " (3, 'attempt', 'text', 0, None, 0)]"
            ]
          },
          "metadata": {
            "tags": []
          },
          "execution_count": 34
        }
      ]
    },
    {
      "cell_type": "code",
      "metadata": {
        "colab": {
          "base_uri": "https://localhost:8080/"
        },
        "id": "8Tu7A14RJzQp",
        "outputId": "b9843dd0-4893-4929-fd19-15db575b1844"
      },
      "source": [
        "cursor.execute('SELECT studentid, attempt FROM credit WHERE attempt >=3 limit 10').fetchall()"
      ],
      "execution_count": null,
      "outputs": [
        {
          "output_type": "execute_result",
          "data": {
            "text/plain": [
              "[(34, '3'),\n",
              " (440, '3'),\n",
              " (369, '3'),\n",
              " (776, '3'),\n",
              " (172, '3'),\n",
              " (823, '3'),\n",
              " (237, '3'),\n",
              " (43, '3'),\n",
              " (496, '3'),\n",
              " (21, '3')]"
            ]
          },
          "metadata": {
            "tags": []
          },
          "execution_count": 35
        }
      ]
    },
    {
      "cell_type": "code",
      "metadata": {
        "colab": {
          "base_uri": "https://localhost:8080/"
        },
        "id": "EUCojFNNKTrW",
        "outputId": "ebe65752-3332-447f-d850-4856bccb6337"
      },
      "source": [
        "cursor.execute('SELECT COUNT(studentid) FROM credit WHERE attempt >=3').fetchall()"
      ],
      "execution_count": null,
      "outputs": [
        {
          "output_type": "execute_result",
          "data": {
            "text/plain": [
              "[(245,)]"
            ]
          },
          "metadata": {
            "tags": []
          },
          "execution_count": 36
        }
      ]
    },
    {
      "cell_type": "markdown",
      "metadata": {
        "id": "tQCJwbYCN090"
      },
      "source": [
        "- Usando uma lógica condicional retorne : Id do aluno, nota, aprovado ou reprovado. Aprovado se nota >= 70.0 "
      ]
    },
    {
      "cell_type": "code",
      "metadata": {
        "colab": {
          "base_uri": "https://localhost:8080/"
        },
        "id": "jcyagSViLBHE",
        "outputId": "83fd55e2-d94e-4dd7-ed5b-763d777e7a1e"
      },
      "source": [
        "status = cursor.execute('SELECT studentid, grade, \\\n",
        "                        CASE WHEN grade >=70 THEN \"aprovado\" \\\n",
        "                        ELSE \"reprovado\" END FROM credit limit 5').fetchall()\n",
        "status"
      ],
      "execution_count": null,
      "outputs": [
        {
          "output_type": "execute_result",
          "data": {
            "text/plain": [
              "[(554, '99.89', 'aprovado'),\n",
              " (468, '85.15', 'aprovado'),\n",
              " (34, '22.69', 'reprovado'),\n",
              " (854, '48.32', 'reprovado'),\n",
              " (469, '90.53', 'aprovado')]"
            ]
          },
          "metadata": {
            "tags": []
          },
          "execution_count": 37
        }
      ]
    },
    {
      "cell_type": "markdown",
      "metadata": {
        "id": "hidTstdLWulv"
      },
      "source": [
        "Realizar uma consulta que retorne os nomes dos cursos cuja a média obtida (AVG) pelo alunos foi maior ou igual 75.0  "
      ]
    },
    {
      "cell_type": "code",
      "metadata": {
        "id": "dOd81hSX4iY9"
      },
      "source": [
        "SQL_cursos_avg = \"\"\"SELECT cs.name, avg(cd.grade) FROM course as cs INNER JOIN credit as cd \n",
        "                    on cs.courseid = cd.courseid GROUP BY cd.courseid HAVING avg(cd.grade) > 60\"\"\""
      ],
      "execution_count": null,
      "outputs": []
    },
    {
      "cell_type": "code",
      "metadata": {
        "colab": {
          "base_uri": "https://localhost:8080/"
        },
        "id": "dyRA6xY5hzyk",
        "outputId": "d5abfdfe-7346-4802-97fb-f8d2651bf2d9"
      },
      "source": [
        "cursor.execute(SQL_cursos_avg).fetchall()"
      ],
      "execution_count": null,
      "outputs": [
        {
          "output_type": "execute_result",
          "data": {
            "text/plain": [
              "[('Circuit Analysis', 65.1123076923077),\n",
              " ('Fundamentals of Marketing ', 64.76054054054052),\n",
              " ('Network Optimization', 63.792068965517245),\n",
              " ('Elementary French ', 60.02),\n",
              " ('Food and Culture', 67.3727027027027)]"
            ]
          },
          "metadata": {
            "tags": []
          },
          "execution_count": 39
        }
      ]
    },
    {
      "cell_type": "markdown",
      "metadata": {
        "id": "rwYC_WSQcsT9"
      },
      "source": [
        "Realizar uma consulta que retorne os email dos alunos que cursaram 3 vezes um mesmo curso \n"
      ]
    },
    {
      "cell_type": "code",
      "metadata": {
        "colab": {
          "base_uri": "https://localhost:8080/"
        },
        "id": "b7gHA9M-dESF",
        "outputId": "a4389d87-793a-47bc-bd6d-d57d2cf4bfc5"
      },
      "source": [
        "cursor.execute('''SELECT s.email, c.attempt FROM student as s, credit as c\n",
        "                on s.studentid = c.studentid\n",
        "                WHERE c.attempt = 3 limit 5''').fetchall()\n"
      ],
      "execution_count": null,
      "outputs": [
        {
          "output_type": "execute_result",
          "data": {
            "text/plain": [
              "[('WaylonBradley@university.com', '3'),\n",
              " ('KarisLe@university.com', '3'),\n",
              " ('AndreMcintyre@university.com', '3'),\n",
              " ('LilaLandry@university.com', '3'),\n",
              " ('AngelaMcconnell@university.com', '3')]"
            ]
          },
          "metadata": {
            "tags": []
          },
          "execution_count": 43
        }
      ]
    },
    {
      "cell_type": "markdown",
      "metadata": {
        "id": "xFctyrU7cw23"
      },
      "source": [
        "\n",
        " (DESAFIO) Realizar uma consulta que retorne os nomes dos professores mais carrascos - isto é - aqueles cujo o número de alunos reprovados (média menor que 70.0) foi maior do que de\n",
        " alunos aprovados."
      ]
    },
    {
      "cell_type": "code",
      "metadata": {
        "colab": {
          "base_uri": "https://localhost:8080/",
          "height": 180
        },
        "id": "J3n6VxGqfej9",
        "outputId": "a334853a-dce3-424f-f5ac-ad51ce379232"
      },
      "source": [
        "cursor.execute('SELECT cs.teacher, COUNT(cd.grade) FROM course as cs, credit as cd \\\n",
        "                WHERE COUNT(cd.grade < 70) > COUNT(cd.grade >=70)').fetchall()"
      ],
      "execution_count": null,
      "outputs": [
        {
          "output_type": "error",
          "ename": "OperationalError",
          "evalue": "ignored",
          "traceback": [
            "\u001b[0;31m---------------------------------------------------------------------------\u001b[0m",
            "\u001b[0;31mOperationalError\u001b[0m                          Traceback (most recent call last)",
            "\u001b[0;32m<ipython-input-113-217f9a22f5c5>\u001b[0m in \u001b[0;36m<module>\u001b[0;34m()\u001b[0m\n\u001b[0;32m----> 1\u001b[0;31m \u001b[0mcursor\u001b[0m\u001b[0;34m.\u001b[0m\u001b[0mexecute\u001b[0m\u001b[0;34m(\u001b[0m\u001b[0;34m'SELECT cs.teacher, COUNT(cd.grade) FROM course as cs, credit as cd                 WHERE COUNT(cd.grade < 70) > COUNT(cd.grade >=70)'\u001b[0m\u001b[0;34m)\u001b[0m\u001b[0;34m.\u001b[0m\u001b[0mfetchall\u001b[0m\u001b[0;34m(\u001b[0m\u001b[0;34m)\u001b[0m\u001b[0;34m\u001b[0m\u001b[0;34m\u001b[0m\u001b[0m\n\u001b[0m",
            "\u001b[0;31mOperationalError\u001b[0m: misuse of aggregate: COUNT()"
          ]
        }
      ]
    },
    {
      "cell_type": "code",
      "metadata": {
        "colab": {
          "base_uri": "https://localhost:8080/",
          "height": 180
        },
        "id": "jGab2K-nWFaY",
        "outputId": "98c0bd2e-dc2d-431a-c027-f6d32318aa00"
      },
      "source": [
        "cursor.execute('SELECT cs.teacher, COUNT(cd.grade) FROM course as cs INNER JOIN credit as cd \\\n",
        "                    on cs.courseid = cd.courseid WHERE COUNT(cd.grade < 70) > COUNT(cd.grade >=70)').fetchall()"
      ],
      "execution_count": null,
      "outputs": [
        {
          "output_type": "error",
          "ename": "OperationalError",
          "evalue": "ignored",
          "traceback": [
            "\u001b[0;31m---------------------------------------------------------------------------\u001b[0m",
            "\u001b[0;31mOperationalError\u001b[0m                          Traceback (most recent call last)",
            "\u001b[0;32m<ipython-input-114-40617e0a8836>\u001b[0m in \u001b[0;36m<module>\u001b[0;34m()\u001b[0m\n\u001b[0;32m----> 1\u001b[0;31m \u001b[0mcursor\u001b[0m\u001b[0;34m.\u001b[0m\u001b[0mexecute\u001b[0m\u001b[0;34m(\u001b[0m\u001b[0;34m'SELECT cs.teacher, COUNT(cd.grade) FROM course as cs INNER JOIN credit as cd                     on cs.courseid = cd.courseid WHERE COUNT(cd.grade < 70) > COUNT(cd.grade >=70)'\u001b[0m\u001b[0;34m)\u001b[0m\u001b[0;34m.\u001b[0m\u001b[0mfetchall\u001b[0m\u001b[0;34m(\u001b[0m\u001b[0;34m)\u001b[0m\u001b[0;34m\u001b[0m\u001b[0;34m\u001b[0m\u001b[0m\n\u001b[0m",
            "\u001b[0;31mOperationalError\u001b[0m: misuse of aggregate: COUNT()"
          ]
        }
      ]
    },
    {
      "cell_type": "code",
      "metadata": {
        "colab": {
          "base_uri": "https://localhost:8080/"
        },
        "id": "R1Lixkf6TRIC",
        "outputId": "60fc9191-cd6b-4580-fbea-b9e558751a2d"
      },
      "source": [
        "cursor.execute('SELECT teacher FROM course').fetchall()"
      ],
      "execution_count": null,
      "outputs": [
        {
          "output_type": "execute_result",
          "data": {
            "text/plain": [
              "[('Kellen Horton',),\n",
              " ('Kamron Saunders',),\n",
              " ('Dominick Pope',),\n",
              " ('Gerardo Grimes',),\n",
              " ('Elaine Cabrera',),\n",
              " ('Sophie Norris',),\n",
              " ('Julio Cohen',),\n",
              " ('Farrah Cantrell',),\n",
              " ('Kayden Price',),\n",
              " ('Ellie Bass',),\n",
              " ('Lilianna Watts',),\n",
              " ('Zariah Bowers',),\n",
              " ('Kylie Cameron',),\n",
              " ('Josie Hopkins',),\n",
              " ('Jaxon Moon',),\n",
              " ('Andre Richard',),\n",
              " ('Matias Little',),\n",
              " ('Abby Sheppard',),\n",
              " ('Mina Kidd',),\n",
              " ('Salma Ortega',),\n",
              " ('Trevon Cline',),\n",
              " ('Janae Chandler',),\n",
              " ('Skyla Barton',),\n",
              " ('Scarlet Hines',),\n",
              " ('Pamela Burch',),\n",
              " ('Kelsey Caldwell',),\n",
              " ('Gibson Warner',),\n",
              " ('Allison Witt',),\n",
              " ('Taylor Knight',),\n",
              " ('Harley Albert',)]"
            ]
          },
          "metadata": {
            "tags": []
          },
          "execution_count": 109
        }
      ]
    },
    {
      "cell_type": "code",
      "metadata": {
        "colab": {
          "base_uri": "https://localhost:8080/"
        },
        "id": "XTvs862GSJHp",
        "outputId": "7b9ece56-a721-483a-f229-bf37b9e5bc23"
      },
      "source": [
        "cursor.execute('SELECT cs.teacher, COUNT(cd.grade) FROM course as cs, credit as cd \\\n",
        "                on cs.courseid = cd.courseid').fetchall()"
      ],
      "execution_count": null,
      "outputs": [
        {
          "output_type": "execute_result",
          "data": {
            "text/plain": [
              "[('Harley Albert', 1000)]"
            ]
          },
          "metadata": {
            "tags": []
          },
          "execution_count": 102
        }
      ]
    },
    {
      "cell_type": "code",
      "metadata": {
        "colab": {
          "base_uri": "https://localhost:8080/"
        },
        "id": "bSmcP17QNVhJ",
        "outputId": "04aa60c6-8a9f-4883-ed6a-43964a4ee70f"
      },
      "source": [
        "cursor.execute('PRAGMA table_info(credit)').fetchall()"
      ],
      "execution_count": null,
      "outputs": [
        {
          "output_type": "execute_result",
          "data": {
            "text/plain": [
              "[(0, 'studentid', 'integer', 0, None, 0),\n",
              " (1, 'courseid', 'text', 0, None, 0),\n",
              " (2, 'grade', 'text', 0, None, 0),\n",
              " (3, 'attempt', 'text', 0, None, 0)]"
            ]
          },
          "metadata": {
            "tags": []
          },
          "execution_count": 110
        }
      ]
    },
    {
      "cell_type": "code",
      "metadata": {
        "colab": {
          "base_uri": "https://localhost:8080/"
        },
        "id": "3oEj8QarStGM",
        "outputId": "a5202794-970f-4ec4-f2f9-76f501ea0927"
      },
      "source": [
        "cursor.execute('select courseid from credit').fetchall()"
      ],
      "execution_count": null,
      "outputs": [
        {
          "output_type": "execute_result",
          "data": {
            "text/plain": [
              "[('24',),\n",
              " ('6',),\n",
              " ('13',),\n",
              " ('16',),\n",
              " ('2',),\n",
              " ('12',),\n",
              " ('29',),\n",
              " ('3',),\n",
              " ('16',),\n",
              " ('23',),\n",
              " ('21',),\n",
              " ('28',),\n",
              " ('24',),\n",
              " ('3',),\n",
              " ('3',),\n",
              " ('12',),\n",
              " ('26',),\n",
              " ('23',),\n",
              " ('8',),\n",
              " ('28',),\n",
              " ('18',),\n",
              " ('8',),\n",
              " ('2',),\n",
              " ('25',),\n",
              " ('17',),\n",
              " ('5',),\n",
              " ('25',),\n",
              " ('21',),\n",
              " ('27',),\n",
              " ('2',),\n",
              " ('15',),\n",
              " ('5',),\n",
              " ('22',),\n",
              " ('7',),\n",
              " ('4',),\n",
              " ('10',),\n",
              " ('7',),\n",
              " ('9',),\n",
              " ('28',),\n",
              " ('28',),\n",
              " ('9',),\n",
              " ('14',),\n",
              " ('24',),\n",
              " ('24',),\n",
              " ('8',),\n",
              " ('24',),\n",
              " ('2',),\n",
              " ('29',),\n",
              " ('26',),\n",
              " ('4',),\n",
              " ('28',),\n",
              " ('17',),\n",
              " ('11',),\n",
              " ('24',),\n",
              " ('8',),\n",
              " ('23',),\n",
              " ('22',),\n",
              " ('16',),\n",
              " ('21',),\n",
              " ('3',),\n",
              " ('10',),\n",
              " ('18',),\n",
              " ('13',),\n",
              " ('8',),\n",
              " ('13',),\n",
              " ('7',),\n",
              " ('7',),\n",
              " ('23',),\n",
              " ('6',),\n",
              " ('19',),\n",
              " ('27',),\n",
              " ('27',),\n",
              " ('25',),\n",
              " ('26',),\n",
              " ('17',),\n",
              " ('7',),\n",
              " ('19',),\n",
              " ('20',),\n",
              " ('22',),\n",
              " ('28',),\n",
              " ('19',),\n",
              " ('23',),\n",
              " ('12',),\n",
              " ('16',),\n",
              " ('5',),\n",
              " ('12',),\n",
              " ('7',),\n",
              " ('3',),\n",
              " ('21',),\n",
              " ('8',),\n",
              " ('13',),\n",
              " ('2',),\n",
              " ('29',),\n",
              " ('25',),\n",
              " ('21',),\n",
              " ('30',),\n",
              " ('3',),\n",
              " ('23',),\n",
              " ('8',),\n",
              " ('8',),\n",
              " ('28',),\n",
              " ('22',),\n",
              " ('14',),\n",
              " ('21',),\n",
              " ('28',),\n",
              " ('23',),\n",
              " ('21',),\n",
              " ('26',),\n",
              " ('20',),\n",
              " ('15',),\n",
              " ('3',),\n",
              " ('18',),\n",
              " ('28',),\n",
              " ('7',),\n",
              " ('30',),\n",
              " ('11',),\n",
              " ('30',),\n",
              " ('23',),\n",
              " ('26',),\n",
              " ('4',),\n",
              " ('25',),\n",
              " ('5',),\n",
              " ('16',),\n",
              " ('18',),\n",
              " ('24',),\n",
              " ('5',),\n",
              " ('23',),\n",
              " ('15',),\n",
              " ('9',),\n",
              " ('14',),\n",
              " ('21',),\n",
              " ('21',),\n",
              " ('22',),\n",
              " ('5',),\n",
              " ('5',),\n",
              " ('23',),\n",
              " ('24',),\n",
              " ('5',),\n",
              " ('28',),\n",
              " ('8',),\n",
              " ('18',),\n",
              " ('14',),\n",
              " ('7',),\n",
              " ('6',),\n",
              " ('10',),\n",
              " ('13',),\n",
              " ('12',),\n",
              " ('20',),\n",
              " ('22',),\n",
              " ('12',),\n",
              " ('16',),\n",
              " ('17',),\n",
              " ('15',),\n",
              " ('20',),\n",
              " ('7',),\n",
              " ('30',),\n",
              " ('21',),\n",
              " ('21',),\n",
              " ('21',),\n",
              " ('9',),\n",
              " ('22',),\n",
              " ('27',),\n",
              " ('20',),\n",
              " ('20',),\n",
              " ('7',),\n",
              " ('11',),\n",
              " ('10',),\n",
              " ('6',),\n",
              " ('5',),\n",
              " ('7',),\n",
              " ('4',),\n",
              " ('20',),\n",
              " ('12',),\n",
              " ('1',),\n",
              " ('14',),\n",
              " ('25',),\n",
              " ('28',),\n",
              " ('26',),\n",
              " ('16',),\n",
              " ('5',),\n",
              " ('3',),\n",
              " ('9',),\n",
              " ('28',),\n",
              " ('7',),\n",
              " ('27',),\n",
              " ('2',),\n",
              " ('4',),\n",
              " ('25',),\n",
              " ('24',),\n",
              " ('19',),\n",
              " ('6',),\n",
              " ('13',),\n",
              " ('12',),\n",
              " ('20',),\n",
              " ('4',),\n",
              " ('6',),\n",
              " ('13',),\n",
              " ('6',),\n",
              " ('10',),\n",
              " ('20',),\n",
              " ('4',),\n",
              " ('15',),\n",
              " ('28',),\n",
              " ('9',),\n",
              " ('14',),\n",
              " ('5',),\n",
              " ('7',),\n",
              " ('20',),\n",
              " ('23',),\n",
              " ('14',),\n",
              " ('19',),\n",
              " ('15',),\n",
              " ('17',),\n",
              " ('4',),\n",
              " ('6',),\n",
              " ('3',),\n",
              " ('13',),\n",
              " ('9',),\n",
              " ('14',),\n",
              " ('2',),\n",
              " ('7',),\n",
              " ('26',),\n",
              " ('21',),\n",
              " ('11',),\n",
              " ('13',),\n",
              " ('10',),\n",
              " ('24',),\n",
              " ('27',),\n",
              " ('19',),\n",
              " ('13',),\n",
              " ('10',),\n",
              " ('23',),\n",
              " ('11',),\n",
              " ('22',),\n",
              " ('9',),\n",
              " ('29',),\n",
              " ('26',),\n",
              " ('4',),\n",
              " ('3',),\n",
              " ('22',),\n",
              " ('14',),\n",
              " ('21',),\n",
              " ('5',),\n",
              " ('16',),\n",
              " ('16',),\n",
              " ('5',),\n",
              " ('25',),\n",
              " ('9',),\n",
              " ('9',),\n",
              " ('5',),\n",
              " ('27',),\n",
              " ('24',),\n",
              " ('7',),\n",
              " ('10',),\n",
              " ('7',),\n",
              " ('28',),\n",
              " ('7',),\n",
              " ('15',),\n",
              " ('7',),\n",
              " ('2',),\n",
              " ('16',),\n",
              " ('3',),\n",
              " ('15',),\n",
              " ('18',),\n",
              " ('28',),\n",
              " ('28',),\n",
              " ('1',),\n",
              " ('16',),\n",
              " ('11',),\n",
              " ('17',),\n",
              " ('24',),\n",
              " ('2',),\n",
              " ('13',),\n",
              " ('17',),\n",
              " ('27',),\n",
              " ('3',),\n",
              " ('8',),\n",
              " ('9',),\n",
              " ('26',),\n",
              " ('9',),\n",
              " ('19',),\n",
              " ('4',),\n",
              " ('23',),\n",
              " ('20',),\n",
              " ('4',),\n",
              " ('20',),\n",
              " ('16',),\n",
              " ('16',),\n",
              " ('13',),\n",
              " ('23',),\n",
              " ('21',),\n",
              " ('11',),\n",
              " ('5',),\n",
              " ('7',),\n",
              " ('25',),\n",
              " ('30',),\n",
              " ('15',),\n",
              " ('10',),\n",
              " ('3',),\n",
              " ('15',),\n",
              " ('5',),\n",
              " ('17',),\n",
              " ('11',),\n",
              " ('14',),\n",
              " ('21',),\n",
              " ('15',),\n",
              " ('29',),\n",
              " ('3',),\n",
              " ('22',),\n",
              " ('3',),\n",
              " ('19',),\n",
              " ('18',),\n",
              " ('21',),\n",
              " ('13',),\n",
              " ('25',),\n",
              " ('14',),\n",
              " ('11',),\n",
              " ('16',),\n",
              " ('27',),\n",
              " ('26',),\n",
              " ('25',),\n",
              " ('22',),\n",
              " ('10',),\n",
              " ('6',),\n",
              " ('26',),\n",
              " ('3',),\n",
              " ('9',),\n",
              " ('16',),\n",
              " ('30',),\n",
              " ('13',),\n",
              " ('11',),\n",
              " ('8',),\n",
              " ('3',),\n",
              " ('15',),\n",
              " ('22',),\n",
              " ('27',),\n",
              " ('4',),\n",
              " ('14',),\n",
              " ('21',),\n",
              " ('16',),\n",
              " ('29',),\n",
              " ('21',),\n",
              " ('26',),\n",
              " ('29',),\n",
              " ('20',),\n",
              " ('4',),\n",
              " ('13',),\n",
              " ('11',),\n",
              " ('14',),\n",
              " ('11',),\n",
              " ('14',),\n",
              " ('6',),\n",
              " ('16',),\n",
              " ('28',),\n",
              " ('27',),\n",
              " ('12',),\n",
              " ('12',),\n",
              " ('1',),\n",
              " ('21',),\n",
              " ('11',),\n",
              " ('1',),\n",
              " ('29',),\n",
              " ('24',),\n",
              " ('30',),\n",
              " ('20',),\n",
              " ('6',),\n",
              " ('7',),\n",
              " ('4',),\n",
              " ('7',),\n",
              " ('28',),\n",
              " ('21',),\n",
              " ('15',),\n",
              " ('20',),\n",
              " ('28',),\n",
              " ('23',),\n",
              " ('12',),\n",
              " ('18',),\n",
              " ('26',),\n",
              " ('12',),\n",
              " ('24',),\n",
              " ('4',),\n",
              " ('16',),\n",
              " ('25',),\n",
              " ('4',),\n",
              " ('22',),\n",
              " ('2',),\n",
              " ('4',),\n",
              " ('14',),\n",
              " ('23',),\n",
              " ('15',),\n",
              " ('25',),\n",
              " ('14',),\n",
              " ('15',),\n",
              " ('30',),\n",
              " ('15',),\n",
              " ('22',),\n",
              " ('26',),\n",
              " ('23',),\n",
              " ('6',),\n",
              " ('27',),\n",
              " ('9',),\n",
              " ('28',),\n",
              " ('26',),\n",
              " ('2',),\n",
              " ('13',),\n",
              " ('6',),\n",
              " ('26',),\n",
              " ('27',),\n",
              " ('19',),\n",
              " ('9',),\n",
              " ('4',),\n",
              " ('19',),\n",
              " ('28',),\n",
              " ('9',),\n",
              " ('11',),\n",
              " ('22',),\n",
              " ('30',),\n",
              " ('19',),\n",
              " ('13',),\n",
              " ('12',),\n",
              " ('12',),\n",
              " ('5',),\n",
              " ('10',),\n",
              " ('12',),\n",
              " ('28',),\n",
              " ('21',),\n",
              " ('11',),\n",
              " ('9',),\n",
              " ('13',),\n",
              " ('24',),\n",
              " ('5',),\n",
              " ('26',),\n",
              " ('8',),\n",
              " ('26',),\n",
              " ('13',),\n",
              " ('12',),\n",
              " ('22',),\n",
              " ('16',),\n",
              " ('8',),\n",
              " ('27',),\n",
              " ('23',),\n",
              " ('17',),\n",
              " ('16',),\n",
              " ('26',),\n",
              " ('25',),\n",
              " ('21',),\n",
              " ('2',),\n",
              " ('18',),\n",
              " ('29',),\n",
              " ('8',),\n",
              " ('29',),\n",
              " ('24',),\n",
              " ('2',),\n",
              " ('21',),\n",
              " ('23',),\n",
              " ('13',),\n",
              " ('7',),\n",
              " ('19',),\n",
              " ('16',),\n",
              " ('8',),\n",
              " ('16',),\n",
              " ('6',),\n",
              " ('24',),\n",
              " ('21',),\n",
              " ('26',),\n",
              " ('22',),\n",
              " ('26',),\n",
              " ('22',),\n",
              " ('25',),\n",
              " ('18',),\n",
              " ('8',),\n",
              " ('27',),\n",
              " ('4',),\n",
              " ('20',),\n",
              " ('4',),\n",
              " ('1',),\n",
              " ('21',),\n",
              " ('22',),\n",
              " ('16',),\n",
              " ('19',),\n",
              " ('20',),\n",
              " ('17',),\n",
              " ('24',),\n",
              " ('24',),\n",
              " ('23',),\n",
              " ('29',),\n",
              " ('19',),\n",
              " ('18',),\n",
              " ('21',),\n",
              " ('16',),\n",
              " ('3',),\n",
              " ('3',),\n",
              " ('29',),\n",
              " ('8',),\n",
              " ('2',),\n",
              " ('26',),\n",
              " ('15',),\n",
              " ('29',),\n",
              " ('27',),\n",
              " ('13',),\n",
              " ('27',),\n",
              " ('21',),\n",
              " ('20',),\n",
              " ('16',),\n",
              " ('19',),\n",
              " ('13',),\n",
              " ('23',),\n",
              " ('22',),\n",
              " ('16',),\n",
              " ('10',),\n",
              " ('5',),\n",
              " ('7',),\n",
              " ('5',),\n",
              " ('5',),\n",
              " ('21',),\n",
              " ('4',),\n",
              " ('2',),\n",
              " ('29',),\n",
              " ('8',),\n",
              " ('16',),\n",
              " ('10',),\n",
              " ('11',),\n",
              " ('5',),\n",
              " ('2',),\n",
              " ('9',),\n",
              " ('19',),\n",
              " ('26',),\n",
              " ('29',),\n",
              " ('9',),\n",
              " ('19',),\n",
              " ('18',),\n",
              " ('24',),\n",
              " ('28',),\n",
              " ('22',),\n",
              " ('21',),\n",
              " ('21',),\n",
              " ('9',),\n",
              " ('10',),\n",
              " ('4',),\n",
              " ('4',),\n",
              " ('12',),\n",
              " ('4',),\n",
              " ('25',),\n",
              " ('8',),\n",
              " ('24',),\n",
              " ('18',),\n",
              " ('6',),\n",
              " ('2',),\n",
              " ('19',),\n",
              " ('24',),\n",
              " ('29',),\n",
              " ('17',),\n",
              " ('12',),\n",
              " ('14',),\n",
              " ('26',),\n",
              " ('8',),\n",
              " ('12',),\n",
              " ('11',),\n",
              " ('14',),\n",
              " ('10',),\n",
              " ('3',),\n",
              " ('4',),\n",
              " ('9',),\n",
              " ('10',),\n",
              " ('21',),\n",
              " ('9',),\n",
              " ('30',),\n",
              " ('14',),\n",
              " ('2',),\n",
              " ('17',),\n",
              " ('5',),\n",
              " ('13',),\n",
              " ('15',),\n",
              " ('23',),\n",
              " ('8',),\n",
              " ('28',),\n",
              " ('8',),\n",
              " ('15',),\n",
              " ('18',),\n",
              " ('11',),\n",
              " ('19',),\n",
              " ('22',),\n",
              " ('29',),\n",
              " ('23',),\n",
              " ('20',),\n",
              " ('8',),\n",
              " ('14',),\n",
              " ('15',),\n",
              " ('28',),\n",
              " ('27',),\n",
              " ('5',),\n",
              " ('12',),\n",
              " ('15',),\n",
              " ('13',),\n",
              " ('18',),\n",
              " ('13',),\n",
              " ('27',),\n",
              " ('15',),\n",
              " ('17',),\n",
              " ('4',),\n",
              " ('24',),\n",
              " ('7',),\n",
              " ('14',),\n",
              " ('13',),\n",
              " ('6',),\n",
              " ('23',),\n",
              " ('20',),\n",
              " ('1',),\n",
              " ('10',),\n",
              " ('14',),\n",
              " ('3',),\n",
              " ('16',),\n",
              " ('16',),\n",
              " ('2',),\n",
              " ('11',),\n",
              " ('25',),\n",
              " ('14',),\n",
              " ('17',),\n",
              " ('4',),\n",
              " ('17',),\n",
              " ('6',),\n",
              " ('2',),\n",
              " ('11',),\n",
              " ('13',),\n",
              " ('24',),\n",
              " ('2',),\n",
              " ('11',),\n",
              " ('21',),\n",
              " ('3',),\n",
              " ('6',),\n",
              " ('25',),\n",
              " ('4',),\n",
              " ('13',),\n",
              " ('1',),\n",
              " ('5',),\n",
              " ('2',),\n",
              " ('23',),\n",
              " ('13',),\n",
              " ('30',),\n",
              " ('20',),\n",
              " ('29',),\n",
              " ('3',),\n",
              " ('16',),\n",
              " ('14',),\n",
              " ('5',),\n",
              " ('9',),\n",
              " ('3',),\n",
              " ('7',),\n",
              " ('15',),\n",
              " ('11',),\n",
              " ('4',),\n",
              " ('27',),\n",
              " ('26',),\n",
              " ('28',),\n",
              " ('24',),\n",
              " ('20',),\n",
              " ('29',),\n",
              " ('28',),\n",
              " ('22',),\n",
              " ('24',),\n",
              " ('17',),\n",
              " ('22',),\n",
              " ('20',),\n",
              " ('2',),\n",
              " ('24',),\n",
              " ('15',),\n",
              " ('26',),\n",
              " ('17',),\n",
              " ('23',),\n",
              " ('2',),\n",
              " ('26',),\n",
              " ('13',),\n",
              " ('15',),\n",
              " ('29',),\n",
              " ('18',),\n",
              " ('21',),\n",
              " ('20',),\n",
              " ('2',),\n",
              " ('5',),\n",
              " ('2',),\n",
              " ('30',),\n",
              " ('27',),\n",
              " ('22',),\n",
              " ('27',),\n",
              " ('13',),\n",
              " ('4',),\n",
              " ('8',),\n",
              " ('10',),\n",
              " ('25',),\n",
              " ('19',),\n",
              " ('8',),\n",
              " ('11',),\n",
              " ('18',),\n",
              " ('8',),\n",
              " ('9',),\n",
              " ('23',),\n",
              " ('21',),\n",
              " ('26',),\n",
              " ('25',),\n",
              " ('19',),\n",
              " ('22',),\n",
              " ('20',),\n",
              " ('15',),\n",
              " ('12',),\n",
              " ('11',),\n",
              " ('23',),\n",
              " ('24',),\n",
              " ('12',),\n",
              " ('17',),\n",
              " ('3',),\n",
              " ('10',),\n",
              " ('2',),\n",
              " ('19',),\n",
              " ('22',),\n",
              " ('10',),\n",
              " ('19',),\n",
              " ('25',),\n",
              " ('17',),\n",
              " ('20',),\n",
              " ('16',),\n",
              " ('22',),\n",
              " ('1',),\n",
              " ('18',),\n",
              " ('5',),\n",
              " ('6',),\n",
              " ('11',),\n",
              " ('11',),\n",
              " ('8',),\n",
              " ('28',),\n",
              " ('6',),\n",
              " ('22',),\n",
              " ('5',),\n",
              " ('12',),\n",
              " ('11',),\n",
              " ('25',),\n",
              " ('28',),\n",
              " ('8',),\n",
              " ('1',),\n",
              " ('12',),\n",
              " ('4',),\n",
              " ('20',),\n",
              " ('7',),\n",
              " ('12',),\n",
              " ('21',),\n",
              " ('16',),\n",
              " ('18',),\n",
              " ('6',),\n",
              " ('3',),\n",
              " ('22',),\n",
              " ('17',),\n",
              " ('6',),\n",
              " ('10',),\n",
              " ('28',),\n",
              " ('20',),\n",
              " ('24',),\n",
              " ('29',),\n",
              " ('7',),\n",
              " ('12',),\n",
              " ('27',),\n",
              " ('23',),\n",
              " ('9',),\n",
              " ('7',),\n",
              " ('23',),\n",
              " ('10',),\n",
              " ('13',),\n",
              " ('27',),\n",
              " ('13',),\n",
              " ('3',),\n",
              " ('2',),\n",
              " ('12',),\n",
              " ('12',),\n",
              " ('4',),\n",
              " ('7',),\n",
              " ('14',),\n",
              " ('27',),\n",
              " ('8',),\n",
              " ('11',),\n",
              " ('15',),\n",
              " ('22',),\n",
              " ('30',),\n",
              " ('8',),\n",
              " ('22',),\n",
              " ('2',),\n",
              " ('21',),\n",
              " ('8',),\n",
              " ('15',),\n",
              " ('5',),\n",
              " ('21',),\n",
              " ('15',),\n",
              " ('8',),\n",
              " ('13',),\n",
              " ('20',),\n",
              " ('14',),\n",
              " ('13',),\n",
              " ('23',),\n",
              " ('22',),\n",
              " ('22',),\n",
              " ('4',),\n",
              " ('15',),\n",
              " ('3',),\n",
              " ('27',),\n",
              " ('13',),\n",
              " ('18',),\n",
              " ('6',),\n",
              " ('21',),\n",
              " ('28',),\n",
              " ('15',),\n",
              " ('16',),\n",
              " ('5',),\n",
              " ('21',),\n",
              " ('12',),\n",
              " ('29',),\n",
              " ('6',),\n",
              " ('7',),\n",
              " ('20',),\n",
              " ('19',),\n",
              " ('11',),\n",
              " ('1',),\n",
              " ('7',),\n",
              " ('10',),\n",
              " ('16',),\n",
              " ('16',),\n",
              " ('23',),\n",
              " ('16',),\n",
              " ('5',),\n",
              " ('4',),\n",
              " ('2',),\n",
              " ('8',),\n",
              " ('8',),\n",
              " ('17',),\n",
              " ('28',),\n",
              " ('22',),\n",
              " ('6',),\n",
              " ('23',),\n",
              " ('19',),\n",
              " ('19',),\n",
              " ('2',),\n",
              " ('27',),\n",
              " ('17',),\n",
              " ('2',),\n",
              " ('15',),\n",
              " ('23',),\n",
              " ('18',),\n",
              " ('12',),\n",
              " ('28',),\n",
              " ('11',),\n",
              " ('20',),\n",
              " ('28',),\n",
              " ('17',),\n",
              " ('7',),\n",
              " ('26',),\n",
              " ('22',),\n",
              " ('25',),\n",
              " ('11',),\n",
              " ('8',),\n",
              " ('5',),\n",
              " ('1',),\n",
              " ('10',),\n",
              " ('12',),\n",
              " ('30',),\n",
              " ('2',),\n",
              " ('22',),\n",
              " ('9',),\n",
              " ('9',),\n",
              " ('14',),\n",
              " ('2',),\n",
              " ('25',),\n",
              " ('13',),\n",
              " ('13',),\n",
              " ('21',),\n",
              " ('15',),\n",
              " ('3',),\n",
              " ('13',),\n",
              " ('12',),\n",
              " ('24',),\n",
              " ('15',),\n",
              " ('14',),\n",
              " ('2',),\n",
              " ('23',),\n",
              " ('15',),\n",
              " ('27',),\n",
              " ('17',),\n",
              " ('9',),\n",
              " ('4',),\n",
              " ('18',),\n",
              " ('18',),\n",
              " ('17',),\n",
              " ('13',),\n",
              " ('22',),\n",
              " ('22',),\n",
              " ('7',),\n",
              " ('15',),\n",
              " ('8',),\n",
              " ('2',),\n",
              " ('22',),\n",
              " ('12',),\n",
              " ('14',),\n",
              " ('25',),\n",
              " ('12',),\n",
              " ('30',),\n",
              " ('15',),\n",
              " ('25',),\n",
              " ('17',),\n",
              " ('16',),\n",
              " ('14',),\n",
              " ('19',),\n",
              " ('17',),\n",
              " ('7',),\n",
              " ('9',),\n",
              " ('12',),\n",
              " ('27',),\n",
              " ('1',),\n",
              " ('6',),\n",
              " ('2',),\n",
              " ('26',),\n",
              " ('15',),\n",
              " ('30',),\n",
              " ('19',),\n",
              " ('23',),\n",
              " ('17',),\n",
              " ('27',),\n",
              " ('28',),\n",
              " ('13',),\n",
              " ('17',),\n",
              " ('4',),\n",
              " ('21',),\n",
              " ('5',),\n",
              " ('4',),\n",
              " ('7',),\n",
              " ('23',),\n",
              " ('9',),\n",
              " ('12',),\n",
              " ('3',),\n",
              " ('27',),\n",
              " ('27',),\n",
              " ('30',),\n",
              " ('15',),\n",
              " ('22',),\n",
              " ('13',),\n",
              " ('15',),\n",
              " ('18',),\n",
              " ('29',),\n",
              " ('3',),\n",
              " ('7',),\n",
              " ('26',),\n",
              " ('6',),\n",
              " ('10',),\n",
              " ('5',),\n",
              " ('29',),\n",
              " ('16',),\n",
              " ('12',),\n",
              " ('25',),\n",
              " ('2',),\n",
              " ('7',),\n",
              " ('14',),\n",
              " ('9',),\n",
              " ('29',),\n",
              " ('24',),\n",
              " ('2',),\n",
              " ('1',),\n",
              " ('30',),\n",
              " ('14',),\n",
              " ('6',),\n",
              " ('7',),\n",
              " ('16',),\n",
              " ('20',),\n",
              " ('19',),\n",
              " ('25',),\n",
              " ('2',),\n",
              " ('7',),\n",
              " ('28',),\n",
              " ('26',),\n",
              " ('6',),\n",
              " ('22',),\n",
              " ('17',),\n",
              " ('21',),\n",
              " ('6',),\n",
              " ('28',),\n",
              " ('20',),\n",
              " ('9',),\n",
              " ('11',),\n",
              " ('29',),\n",
              " ('11',),\n",
              " ('25',),\n",
              " ('24',),\n",
              " ('16',),\n",
              " ('8',),\n",
              " ('3',),\n",
              " ('7',),\n",
              " ('13',),\n",
              " ('17',),\n",
              " ('3',),\n",
              " ('6',),\n",
              " ('15',),\n",
              " ('18',),\n",
              " ('18',),\n",
              " ('11',),\n",
              " ('30',),\n",
              " ('22',),\n",
              " ('30',)]"
            ]
          },
          "metadata": {
            "tags": []
          },
          "execution_count": 104
        }
      ]
    },
    {
      "cell_type": "code",
      "metadata": {
        "colab": {
          "base_uri": "https://localhost:8080/"
        },
        "id": "VMrKTtamLi3K",
        "outputId": "627f2bcf-50a8-40ee-c47f-d199ec9cf8da"
      },
      "source": [
        "cursor.execute('PRAGMA table_info(credit)').fetchall()"
      ],
      "execution_count": null,
      "outputs": [
        {
          "output_type": "execute_result",
          "data": {
            "text/plain": [
              "[(0, 'studentid', 'integer', 0, None, 0),\n",
              " (1, 'courseid', 'text', 0, None, 0),\n",
              " (2, 'grade', 'text', 0, None, 0),\n",
              " (3, 'attempt', 'text', 0, None, 0)]"
            ]
          },
          "metadata": {
            "tags": []
          },
          "execution_count": 77
        }
      ]
    },
    {
      "cell_type": "markdown",
      "metadata": {
        "id": "UzDmPHvWW4_r"
      },
      "source": [
        "  \n",
        "Desafio 1: \n",
        "\n",
        " Achar os estudantes do prof. Harley Albert que obtiveram média > 70.0 \n",
        " A consulta deverá retornar os seguintes atributos: FirstName, LastName, Course(Name), Média (Grade)  \n",
        "  \n",
        "\n",
        "\n",
        "\n",
        "Desafio 2: \n",
        "\n",
        "Achar todos os cursos que o aluno Adams Delilah se matriculou. \n",
        " Retorne: course.Name, course.Teacher, credit.Grade\n"
      ]
    }
  ]
}